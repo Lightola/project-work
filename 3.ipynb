{
  "nbformat": 4,
  "nbformat_minor": 0,
  "metadata": {
    "colab": {
      "provenance": []
    },
    "kernelspec": {
      "name": "python3",
      "display_name": "Python 3"
    },
    "language_info": {
      "name": "python"
    }
  },
  "cells": [
    {
      "cell_type": "markdown",
      "source": [
        "#**Project 3 COVID19 pendemic data analysis**"
      ],
      "metadata": {
        "id": "wha6bb1uSEmC"
      }
    },
    {
      "cell_type": "code",
      "execution_count": null,
      "metadata": {
        "id": "0wCC1hrpR_Cg"
      },
      "outputs": [],
      "source": [
        "import pandas as pd\n",
        "import matplotlib.pyplot as plt\n",
        "pd.options.mode.copy_on_write = True"
      ]
    },
    {
      "cell_type": "code",
      "source": [
        "#load data\n",
        "dp = pd.read_csv(\"/content/owid-covid-data.csv\")"
      ],
      "metadata": {
        "id": "NmVuZqmd0iH1"
      },
      "execution_count": null,
      "outputs": []
    },
    {
      "cell_type": "code",
      "source": [
        "print(dp)"
      ],
      "metadata": {
        "colab": {
          "base_uri": "https://localhost:8080/"
        },
        "id": "NOee3AA72Dny",
        "outputId": "0344f5e0-a456-4771-c29c-80cd306e23af"
      },
      "execution_count": null,
      "outputs": [
        {
          "output_type": "stream",
          "name": "stdout",
          "text": [
            "       iso_code continent     location        date  total_cases  new_cases  \\\n",
            "0           AFG      Asia  Afghanistan  2020-01-05          0.0        0.0   \n",
            "1           AFG      Asia  Afghanistan  2020-01-06          0.0        0.0   \n",
            "2           AFG      Asia  Afghanistan  2020-01-07          0.0        0.0   \n",
            "3           AFG      Asia  Afghanistan  2020-01-08          0.0        0.0   \n",
            "4           AFG      Asia  Afghanistan  2020-01-09          0.0        0.0   \n",
            "...         ...       ...          ...         ...          ...        ...   \n",
            "429430      ZWE    Africa     Zimbabwe  2024-07-31     266386.0        0.0   \n",
            "429431      ZWE    Africa     Zimbabwe  2024-08-01     266386.0        0.0   \n",
            "429432      ZWE    Africa     Zimbabwe  2024-08-02     266386.0        0.0   \n",
            "429433      ZWE    Africa     Zimbabwe  2024-08-03     266386.0        0.0   \n",
            "429434      ZWE    Africa     Zimbabwe  2024-08-04     266386.0        0.0   \n",
            "\n",
            "        new_cases_smoothed  total_deaths  new_deaths  new_deaths_smoothed  \\\n",
            "0                      NaN           0.0         0.0                  NaN   \n",
            "1                      NaN           0.0         0.0                  NaN   \n",
            "2                      NaN           0.0         0.0                  NaN   \n",
            "3                      NaN           0.0         0.0                  NaN   \n",
            "4                      NaN           0.0         0.0                  NaN   \n",
            "...                    ...           ...         ...                  ...   \n",
            "429430                 0.0        5740.0         0.0                  0.0   \n",
            "429431                 0.0        5740.0         0.0                  0.0   \n",
            "429432                 0.0        5740.0         0.0                  0.0   \n",
            "429433                 0.0        5740.0         0.0                  0.0   \n",
            "429434                 0.0        5740.0         0.0                  0.0   \n",
            "\n",
            "        ...  male_smokers  handwashing_facilities  hospital_beds_per_thousand  \\\n",
            "0       ...           NaN                  37.746                         0.5   \n",
            "1       ...           NaN                  37.746                         0.5   \n",
            "2       ...           NaN                  37.746                         0.5   \n",
            "3       ...           NaN                  37.746                         0.5   \n",
            "4       ...           NaN                  37.746                         0.5   \n",
            "...     ...           ...                     ...                         ...   \n",
            "429430  ...          30.7                  36.791                         1.7   \n",
            "429431  ...          30.7                  36.791                         1.7   \n",
            "429432  ...          30.7                  36.791                         1.7   \n",
            "429433  ...          30.7                  36.791                         1.7   \n",
            "429434  ...          30.7                  36.791                         1.7   \n",
            "\n",
            "        life_expectancy  human_development_index  population  \\\n",
            "0                 64.83                    0.511    41128772   \n",
            "1                 64.83                    0.511    41128772   \n",
            "2                 64.83                    0.511    41128772   \n",
            "3                 64.83                    0.511    41128772   \n",
            "4                 64.83                    0.511    41128772   \n",
            "...                 ...                      ...         ...   \n",
            "429430            61.49                    0.571    16320539   \n",
            "429431            61.49                    0.571    16320539   \n",
            "429432            61.49                    0.571    16320539   \n",
            "429433            61.49                    0.571    16320539   \n",
            "429434            61.49                    0.571    16320539   \n",
            "\n",
            "        excess_mortality_cumulative_absolute  excess_mortality_cumulative  \\\n",
            "0                                        NaN                          NaN   \n",
            "1                                        NaN                          NaN   \n",
            "2                                        NaN                          NaN   \n",
            "3                                        NaN                          NaN   \n",
            "4                                        NaN                          NaN   \n",
            "...                                      ...                          ...   \n",
            "429430                                   NaN                          NaN   \n",
            "429431                                   NaN                          NaN   \n",
            "429432                                   NaN                          NaN   \n",
            "429433                                   NaN                          NaN   \n",
            "429434                                   NaN                          NaN   \n",
            "\n",
            "        excess_mortality  excess_mortality_cumulative_per_million  \n",
            "0                    NaN                                      NaN  \n",
            "1                    NaN                                      NaN  \n",
            "2                    NaN                                      NaN  \n",
            "3                    NaN                                      NaN  \n",
            "4                    NaN                                      NaN  \n",
            "...                  ...                                      ...  \n",
            "429430               NaN                                      NaN  \n",
            "429431               NaN                                      NaN  \n",
            "429432               NaN                                      NaN  \n",
            "429433               NaN                                      NaN  \n",
            "429434               NaN                                      NaN  \n",
            "\n",
            "[429435 rows x 67 columns]\n"
          ]
        }
      ]
    },
    {
      "cell_type": "code",
      "source": [
        "dp.info()"
      ],
      "metadata": {
        "colab": {
          "base_uri": "https://localhost:8080/"
        },
        "id": "bq1OWkaI3OPW",
        "outputId": "c0e89568-8c70-43b0-8773-3b66d99d683c"
      },
      "execution_count": null,
      "outputs": [
        {
          "output_type": "stream",
          "name": "stdout",
          "text": [
            "<class 'pandas.core.frame.DataFrame'>\n",
            "RangeIndex: 429435 entries, 0 to 429434\n",
            "Data columns (total 67 columns):\n",
            " #   Column                                      Non-Null Count   Dtype  \n",
            "---  ------                                      --------------   -----  \n",
            " 0   iso_code                                    429435 non-null  object \n",
            " 1   continent                                   402910 non-null  object \n",
            " 2   location                                    429435 non-null  object \n",
            " 3   date                                        429435 non-null  object \n",
            " 4   total_cases                                 411804 non-null  float64\n",
            " 5   new_cases                                   410159 non-null  float64\n",
            " 6   new_cases_smoothed                          408929 non-null  float64\n",
            " 7   total_deaths                                411804 non-null  float64\n",
            " 8   new_deaths                                  410608 non-null  float64\n",
            " 9   new_deaths_smoothed                         409378 non-null  float64\n",
            " 10  total_cases_per_million                     411804 non-null  float64\n",
            " 11  new_cases_per_million                       410159 non-null  float64\n",
            " 12  new_cases_smoothed_per_million              408929 non-null  float64\n",
            " 13  total_deaths_per_million                    411804 non-null  float64\n",
            " 14  new_deaths_per_million                      410608 non-null  float64\n",
            " 15  new_deaths_smoothed_per_million             409378 non-null  float64\n",
            " 16  reproduction_rate                           184817 non-null  float64\n",
            " 17  icu_patients                                39116 non-null   float64\n",
            " 18  icu_patients_per_million                    39116 non-null   float64\n",
            " 19  hosp_patients                               40656 non-null   float64\n",
            " 20  hosp_patients_per_million                   40656 non-null   float64\n",
            " 21  weekly_icu_admissions                       10993 non-null   float64\n",
            " 22  weekly_icu_admissions_per_million           10993 non-null   float64\n",
            " 23  weekly_hosp_admissions                      24497 non-null   float64\n",
            " 24  weekly_hosp_admissions_per_million          24497 non-null   float64\n",
            " 25  total_tests                                 79387 non-null   float64\n",
            " 26  new_tests                                   75403 non-null   float64\n",
            " 27  total_tests_per_thousand                    79387 non-null   float64\n",
            " 28  new_tests_per_thousand                      75403 non-null   float64\n",
            " 29  new_tests_smoothed                          103965 non-null  float64\n",
            " 30  new_tests_smoothed_per_thousand             103965 non-null  float64\n",
            " 31  positive_rate                               95927 non-null   float64\n",
            " 32  tests_per_case                              94348 non-null   float64\n",
            " 33  tests_units                                 106788 non-null  object \n",
            " 34  total_vaccinations                          85417 non-null   float64\n",
            " 35  people_vaccinated                           81132 non-null   float64\n",
            " 36  people_fully_vaccinated                     78061 non-null   float64\n",
            " 37  total_boosters                              53600 non-null   float64\n",
            " 38  new_vaccinations                            70971 non-null   float64\n",
            " 39  new_vaccinations_smoothed                   195029 non-null  float64\n",
            " 40  total_vaccinations_per_hundred              85417 non-null   float64\n",
            " 41  people_vaccinated_per_hundred               81132 non-null   float64\n",
            " 42  people_fully_vaccinated_per_hundred         78061 non-null   float64\n",
            " 43  total_boosters_per_hundred                  53600 non-null   float64\n",
            " 44  new_vaccinations_smoothed_per_million       195029 non-null  float64\n",
            " 45  new_people_vaccinated_smoothed              192177 non-null  float64\n",
            " 46  new_people_vaccinated_smoothed_per_hundred  192177 non-null  float64\n",
            " 47  stringency_index                            196190 non-null  float64\n",
            " 48  population_density                          360492 non-null  float64\n",
            " 49  median_age                                  334663 non-null  float64\n",
            " 50  aged_65_older                               323270 non-null  float64\n",
            " 51  aged_70_older                               331315 non-null  float64\n",
            " 52  gdp_per_capita                              328292 non-null  float64\n",
            " 53  extreme_poverty                             211996 non-null  float64\n",
            " 54  cardiovasc_death_rate                       328865 non-null  float64\n",
            " 55  diabetes_prevalence                         345911 non-null  float64\n",
            " 56  female_smokers                              247165 non-null  float64\n",
            " 57  male_smokers                                243817 non-null  float64\n",
            " 58  handwashing_facilities                      161741 non-null  float64\n",
            " 59  hospital_beds_per_thousand                  290689 non-null  float64\n",
            " 60  life_expectancy                             390299 non-null  float64\n",
            " 61  human_development_index                     319127 non-null  float64\n",
            " 62  population                                  429435 non-null  int64  \n",
            " 63  excess_mortality_cumulative_absolute        13411 non-null   float64\n",
            " 64  excess_mortality_cumulative                 13411 non-null   float64\n",
            " 65  excess_mortality                            13411 non-null   float64\n",
            " 66  excess_mortality_cumulative_per_million     13411 non-null   float64\n",
            "dtypes: float64(61), int64(1), object(5)\n",
            "memory usage: 219.5+ MB\n"
          ]
        }
      ]
    },
    {
      "cell_type": "code",
      "source": [
        "print(f' The data has {dp.shape} rows and columns')"
      ],
      "metadata": {
        "colab": {
          "base_uri": "https://localhost:8080/"
        },
        "id": "6wUAlGXq3XRM",
        "outputId": "f0a491a7-6314-42f6-b84f-5b543dff6d2c"
      },
      "execution_count": null,
      "outputs": [
        {
          "output_type": "stream",
          "name": "stdout",
          "text": [
            " The data has (429435, 67) rows and columns\n"
          ]
        }
      ]
    },
    {
      "cell_type": "code",
      "source": [
        "#convert data\n",
        "dp['data'] =pd.to_datetime(dp['date'])"
      ],
      "metadata": {
        "id": "d-I-PovI1C7m"
      },
      "execution_count": null,
      "outputs": []
    },
    {
      "cell_type": "code",
      "source": [
        "#global daliy new cases\n",
        "global_cases = dp.groupby('data')['new_cases'].sum()\n",
        "\n",
        "# Cumulative cases\n",
        "cumulative_cases = global_cases.cumsum()"
      ],
      "metadata": {
        "id": "jJ1oMG711wWh"
      },
      "execution_count": null,
      "outputs": []
    },
    {
      "cell_type": "code",
      "source": [
        "# Plot\n",
        "plt.figure(figsize=(14,6))\n",
        "plt.plot(global_cases, label='Daily New Cases', alpha=0.5)\n",
        "plt.plot(cumulative_cases, label='Cumulative Cases', linewidth=2)\n",
        "plt.title(\"Global COVID-19 Case Trend Over Time\")\n",
        "plt.xlabel(\"Date\")\n",
        "plt.ylabel(\"Number of Cases\")\n",
        "plt.legend()\n",
        "plt.grid(True)\n",
        "plt.show()"
      ],
      "metadata": {
        "colab": {
          "base_uri": "https://localhost:8080/",
          "height": 462
        },
        "id": "KA2F_Yc23llG",
        "outputId": "6f04dc94-690b-4246-866f-d6b474c10448"
      },
      "execution_count": null,
      "outputs": [
        {
          "output_type": "display_data",
          "data": {
            "text/plain": [
              "<Figure size 1400x600 with 1 Axes>"
            ],
            "image/png": "[encoded data removed]"
          },
          "metadata": {}
        }
      ]
    },
    {
      "cell_type": "code",
      "source": [
        "# Filter recent data\n",
        "latest = dp[dp['date'] == dp['date'].max()]\n",
        "\n",
        "# Top countries by total cases\n",
        "top_cases = latest[['location', 'total_cases']].dropna().sort_values(by='total_cases', ascending=False).head(10)\n",
        "\n",
        "# Top countries by total deaths\n",
        "top_deaths = latest[['location', 'total_deaths']].dropna().sort_values(by='total_deaths', ascending=False).head(10)\n",
        "\n",
        "print(\"Top 10 Countries by Total Cases:\\n\", top_cases)\n",
        "print(\"\\nTop 10 Countries by Total Deaths:\\n\", top_deaths)\n"
      ],
      "metadata": {
        "colab": {
          "base_uri": "https://localhost:8080/"
        },
        "id": "aA9GpavV3ldF",
        "outputId": "57dd33b7-37b6-4127-d193-78dc4895f1d2"
      },
      "execution_count": null,
      "outputs": [
        {
          "output_type": "stream",
          "name": "stdout",
          "text": [
            "Top 10 Countries by Total Cases:\n",
            " Empty DataFrame\n",
            "Columns: [location, total_cases]\n",
            "Index: []\n",
            "\n",
            "Top 10 Countries by Total Deaths:\n",
            " Empty DataFrame\n",
            "Columns: [location, total_deaths]\n",
            "Index: []\n"
          ]
        }
      ]
    },
    {
      "cell_type": "code",
      "source": [
        "print(latest[['location','total_deaths','total_cases']].isnull().sum())"
      ],
      "metadata": {
        "colab": {
          "base_uri": "https://localhost:8080/"
        },
        "id": "6aYhAVh27Bvz",
        "outputId": "6eddd00d-4688-4333-85c5-b0def0ae54ea"
      },
      "execution_count": null,
      "outputs": [
        {
          "output_type": "stream",
          "name": "stdout",
          "text": [
            "location        0\n",
            "total_deaths    8\n",
            "total_cases     8\n",
            "dtype: int64\n"
          ]
        }
      ]
    },
    {
      "cell_type": "code",
      "source": [
        "valid_data = latest[(latest['total_deaths'].notnull()) &\n",
        "                    (latest['total_cases'].notnull()) &\n",
        "                    (latest['total_cases'] > 0)]\n",
        "\n",
        "valid_data['fatality_rate'] = valid_data['total_deaths'] / valid_data['total_cases']\n",
        "valid_data = latest[(latest['total_deaths'].notnull()) &\n",
        "                    (latest['total_cases'].notnull()) &\n",
        "                    (latest['total_cases'] > 0)]\n",
        "\n",
        "valid_data['fatality_rate'] = valid_data['total_deaths'] / valid_data['total_cases']\n",
        "fatality = valid_data[['location', 'fatality_rate']].sort_values(by='fatality_rate', ascending=False).head(10)\n",
        "\n",
        "print(\"Top 10 Countries by Fatality Rate:\\n\", fatality)"
      ],
      "metadata": {
        "colab": {
          "base_uri": "https://localhost:8080/"
        },
        "id": "wfxeL3vQ8BEx",
        "outputId": "812ff42d-d78b-4d0f-e1c3-46be2980b1e6"
      },
      "execution_count": null,
      "outputs": [
        {
          "output_type": "stream",
          "name": "stdout",
          "text": [
            "Top 10 Countries by Fatality Rate:\n",
            " Empty DataFrame\n",
            "Columns: [location, fatality_rate]\n",
            "Index: []\n"
          ]
        }
      ]
    },
    {
      "cell_type": "code",
      "source": [
        "print(latest.columns)"
      ],
      "metadata": {
        "colab": {
          "base_uri": "https://localhost:8080/"
        },
        "id": "pdIoJTvO8stD",
        "outputId": "e6001863-01eb-4a18-a380-0512c43b41bf"
      },
      "execution_count": null,
      "outputs": [
        {
          "output_type": "stream",
          "name": "stdout",
          "text": [
            "Index(['iso_code', 'continent', 'location', 'date', 'total_cases', 'new_cases',\n",
            "       'new_cases_smoothed', 'total_deaths', 'new_deaths',\n",
            "       'new_deaths_smoothed', 'total_cases_per_million',\n",
            "       'new_cases_per_million', 'new_cases_smoothed_per_million',\n",
            "       'total_deaths_per_million', 'new_deaths_per_million',\n",
            "       'new_deaths_smoothed_per_million', 'reproduction_rate', 'icu_patients',\n",
            "       'icu_patients_per_million', 'hosp_patients',\n",
            "       'hosp_patients_per_million', 'weekly_icu_admissions',\n",
            "       'weekly_icu_admissions_per_million', 'weekly_hosp_admissions',\n",
            "       'weekly_hosp_admissions_per_million', 'total_tests', 'new_tests',\n",
            "       'total_tests_per_thousand', 'new_tests_per_thousand',\n",
            "       'new_tests_smoothed', 'new_tests_smoothed_per_thousand',\n",
            "       'positive_rate', 'tests_per_case', 'tests_units', 'total_vaccinations',\n",
            "       'people_vaccinated', 'people_fully_vaccinated', 'total_boosters',\n",
            "       'new_vaccinations', 'new_vaccinations_smoothed',\n",
            "       'total_vaccinations_per_hundred', 'people_vaccinated_per_hundred',\n",
            "       'people_fully_vaccinated_per_hundred', 'total_boosters_per_hundred',\n",
            "       'new_vaccinations_smoothed_per_million',\n",
            "       'new_people_vaccinated_smoothed',\n",
            "       'new_people_vaccinated_smoothed_per_hundred', 'stringency_index',\n",
            "       'population_density', 'median_age', 'aged_65_older', 'aged_70_older',\n",
            "       'gdp_per_capita', 'extreme_poverty', 'cardiovasc_death_rate',\n",
            "       'diabetes_prevalence', 'female_smokers', 'male_smokers',\n",
            "       'handwashing_facilities', 'hospital_beds_per_thousand',\n",
            "       'life_expectancy', 'human_development_index', 'population',\n",
            "       'excess_mortality_cumulative_absolute', 'excess_mortality_cumulative',\n",
            "       'excess_mortality', 'excess_mortality_cumulative_per_million', 'data'],\n",
            "      dtype='object')\n"
          ]
        }
      ]
    },
    {
      "cell_type": "code",
      "source": [
        "valid_data['fatality_rate'] = valid_data['total_deaths'] / valid_data['total_cases']"
      ],
      "metadata": {
        "id": "clsaFiOR9nGG"
      },
      "execution_count": null,
      "outputs": []
    },
    {
      "cell_type": "code",
      "source": [
        "fatality = valid_data[['location', 'fatality_rate']].sort_values(by='fatality_rate', ascending=False).head(10)\n",
        "\n",
        "print(\"Top 10 Countries by Fatality Rate:\\n\", fatality)"
      ],
      "metadata": {
        "colab": {
          "base_uri": "https://localhost:8080/"
        },
        "id": "dHqnxk1w-CtU",
        "outputId": "1bcfa87a-db4e-4123-9e16-3ecc397738c3"
      },
      "execution_count": null,
      "outputs": [
        {
          "output_type": "stream",
          "name": "stdout",
          "text": [
            "Top 10 Countries by Fatality Rate:\n",
            " Empty DataFrame\n",
            "Columns: [location, fatality_rate]\n",
            "Index: []\n"
          ]
        }
      ]
    },
    {
      "cell_type": "code",
      "source": [
        "print(valid_data.shape)"
      ],
      "metadata": {
        "colab": {
          "base_uri": "https://localhost:8080/"
        },
        "id": "mnORe6rE-Xy7",
        "outputId": "8bab0d97-898a-4337-b6b2-af6aa1532a9c"
      },
      "execution_count": null,
      "outputs": [
        {
          "output_type": "stream",
          "name": "stdout",
          "text": [
            "(0, 69)\n"
          ]
        }
      ]
    },
    {
      "cell_type": "code",
      "source": [
        "# Keep only the latest data per country\n",
        "latest = dp.sort_values('date').groupby('location').tail(1)\n",
        "\n",
        "# Filter for countries with valid data\n",
        "valid_data = latest[\n",
        "    (latest['total_deaths'].notnull()) &\n",
        "    (latest['total_cases'].notnull()) &\n",
        "    (latest['total_cases'] > 0)\n",
        "]\n",
        "\n",
        "# Calculate fatality rate\n",
        "valid_data['fatality_rate'] = valid_data['total_deaths'] / valid_data['total_cases']\n",
        "\n",
        "# Get top 10 countries by fatality rate\n",
        "fatality = valid_data[['location', 'fatality_rate']].sort_values(\n",
        "    by='fatality_rate', ascending=False).head(10)\n",
        "# Keep only the latest data per country\n",
        "latest = dp.sort_values('date').groupby('location').tail(1)\n",
        "\n",
        "# Filter for countries with valid data\n",
        "valid_data = latest[\n",
        "    (latest['total_deaths'].notnull()) &\n",
        "    (latest['total_cases'].notnull()) &\n",
        "    (latest['total_cases'] > 0)\n",
        "]\n",
        "\n",
        "# Calculate fatality rate\n",
        "valid_data['fatality_rate'] = valid_data['total_deaths'] / valid_data['total_cases']\n",
        "\n",
        "# Get top 10 countries by fatality rate\n",
        "fatality = valid_data[['location', 'fatality_rate']].sort_values(\n",
        "    by='fatality_rate', ascending=False).head(10)\n",
        "\n",
        "# Display result\n",
        "print(\"Top 10 Countries by Fatality Rate:\\n\", fatality)"
      ],
      "metadata": {
        "colab": {
          "base_uri": "https://localhost:8080/"
        },
        "id": "mqTPgDI__Wr3",
        "outputId": "7a1848e9-a3dd-4ed5-d803-c9d61d94a953"
      },
      "execution_count": null,
      "outputs": [
        {
          "output_type": "stream",
          "name": "stdout",
          "text": [
            "Top 10 Countries by Fatality Rate:\n",
            "                       location  fatality_rate\n",
            "426086                   Yemen       0.180745\n",
            "367607                   Sudan       0.078852\n",
            "374303                   Syria       0.055082\n",
            "355889                 Somalia       0.049791\n",
            "302690                    Peru       0.048813\n",
            "107157                   Egypt       0.048118\n",
            "245371                  Mexico       0.043907\n",
            "48559   Bosnia and Herzegovina       0.040608\n",
            "212061                 Liberia       0.037074\n",
            "1673               Afghanistan       0.034003\n"
          ]
        }
      ]
    },
    {
      "cell_type": "code",
      "source": [
        "top_vaccinated = latest[['location', 'people_fully_vaccinated']].dropna().sort_values(by='people_fully_vaccinated', ascending=False).head(10)\n",
        "print(\"Top 10 Countries by Number of Fully Vaccinated People:\\n\", top_vaccinated)"
      ],
      "metadata": {
        "colab": {
          "base_uri": "https://localhost:8080/"
        },
        "id": "FSaAD-C63lMN",
        "outputId": "51c6fa82-6b04-455c-c4b6-89985e3eed2c"
      },
      "execution_count": null,
      "outputs": [
        {
          "output_type": "stream",
          "name": "stdout",
          "text": [
            "Top 10 Countries by Number of Fully Vaccinated People:\n",
            "                              location  people_fully_vaccinated\n",
            "424412                          World             5.177943e+09\n",
            "21775                            Asia             3.462095e+09\n",
            "408137  Upper-middle-income countries             1.990653e+09\n",
            "165198          High-income countries             9.292560e+08\n",
            "120252                         Europe             4.937513e+08\n",
            "121602            European Union (27)             3.279674e+08\n",
            "230301                       Malaysia             2.755114e+07\n",
            "217093                      Lithuania             1.881106e+06\n"
          ]
        }
      ]
    },
    {
      "cell_type": "code",
      "source": [],
      "metadata": {
        "id": "FzEGYjHC3lDZ"
      },
      "execution_count": null,
      "outputs": []
    }
  ]
}